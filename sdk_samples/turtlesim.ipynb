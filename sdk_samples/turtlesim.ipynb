{
 "cells": [
  {
   "cell_type": "code",
   "execution_count": null,
   "metadata": {},
   "outputs": [],
   "source": [
    "'''\n",
    "rapyuta.io SDK turtlesim example.\n",
    "Deploy turtlesim tutorial from SDK.\n",
    "\n",
    "turtlesim tutorial:\n",
    "SDK tutorial: https://docs.rapyuta.io/python-sdk/\n",
    "'''"
   ]
  },
  {
   "cell_type": "code",
   "execution_count": null,
   "metadata": {},
   "outputs": [],
   "source": [
    "# Constants\n",
    "# TODO use public package ID\n",
    "AUTH_TOKEN = ''\n",
    "SIMULATOR_PACKAGE_ID = ''\n",
    "SIMULATOR_PLAN_ID = ''\n",
    "COMMAND_CENTER_PACKAGE_ID = ''\n",
    "COMMAND_CENTER_PLAN_ID = ''\n",
    "TURTLE_PACKAGE_ID = ''\n",
    "TURTLE_PLAN_ID = ''\n",
    "UI_PACKAGE_ID = ''\n",
    "UI_PLAN_ID = ''\n",
    "DEPLOYMENT_PREFIX = 'turtlesim_'\n",
    "TURTLE_NUM = 2"
   ]
  },
  {
   "cell_type": "code",
   "execution_count": null,
   "metadata": {},
   "outputs": [],
   "source": [
    "from time import sleep\n",
    "\n",
    "# Authentication code snippet\n",
    "from rapyuta_io import Client\n",
    "client = Client(AUTH_TOKEN, group='io-tutorial')"
   ]
  },
  {
   "cell_type": "code",
   "execution_count": null,
   "metadata": {},
   "outputs": [],
   "source": [
    "simulator_package = client.get_package(SIMULATOR_PACKAGE_ID)\n",
    "simulator_configuration = simulator_package.get_provision_configuration(SIMULATOR_PLAN_ID)\n",
    "simulator_deployment = simulator_package.provision(\n",
    "                deployment_name = DEPLOYMENT_PREFIX + 'simulator',\n",
    "\t\t\t\tprovision_configuration = simulator_configuration)\n",
    "while(simulator_deployment.get_status()['status'] != 'Running'):\n",
    "    print('Waiting simulator start running')\n",
    "    sleep(1)\n",
    "print('Simulator started')"
   ]
  },
  {
   "cell_type": "code",
   "execution_count": null,
   "metadata": {},
   "outputs": [],
   "source": [
    "command_center_package = client.get_package(COMMAND_CENTER_PACKAGE_ID)\n",
    "command_center_configuration = command_center_package.get_provision_configuration(COMMAND_CENTER_PLAN_ID)\n",
    "command_center_configuration.add_dependent_deployment(simulator_deployment)\n",
    "command_center_deployment = command_center_package.provision(\n",
    "                deployment_name = DEPLOYMENT_PREFIX + 'command_center',\n",
    "\t\t\t\tprovision_configuration = command_center_configuration)\n",
    "while(command_center_deployment.get_status()['status'] != 'Running'):\n",
    "    print('Waiting command center start running')\n",
    "    sleep(1)\n",
    "print('Command center started')"
   ]
  },
  {
   "cell_type": "code",
   "execution_count": null,
   "metadata": {},
   "outputs": [],
   "source": [
    "ui_package = client.get_package(UI_PACKAGE_ID)\n",
    "ui_configuration = ui_package.get_provision_configuration(UI_PLAN_ID)\n",
    "ui_configuration.add_dependent_deployment(command_center_deployment)\n",
    "ui_deployment = ui_package.provision(\n",
    "                deployment_name = DEPLOYMENT_PREFIX + 'ui',\n",
    "\t\t\t\tprovision_configuration = ui_configuration)\n",
    "while(ui_deployment.get_status()['status'] != 'Running'):\n",
    "    print('Waiting UI start running')\n",
    "    sleep(1)\n",
    "print('UI started')\n",
    "print ('UI endpoint: ' + ui_deployment.get_status()\n",
    "       ['componentInfo'][0]['networkEndpoints']['UserInterface'])"
   ]
  },
  {
   "cell_type": "code",
   "execution_count": null,
   "metadata": {},
   "outputs": [],
   "source": [
    "for i in range(TURTLE_NUM):\n",
    "    turtle_package = client.get_package(TURTLE_PACKAGE_ID)\n",
    "    turtle_configuration = turtle_package.get_provision_configuration(TURTLE_PLAN_ID)\n",
    "    turtle_configuration.add_dependent_deployment(simulator_deployment)\n",
    "    turtle_configuration.add_dependent_deployment(command_center_deployment)\n",
    "    turtle_deployment = turtle_package.provision(\n",
    "                    deployment_name = DEPLOYMENT_PREFIX + 'turtle' + str(i),\n",
    "                    provision_configuration = turtle_configuration)\n",
    "    while(turtle_deployment.get_status()['status'] != 'Running'):\n",
    "        print('Waiting turtle' + str(i) + ' start running')\n",
    "        sleep(1)\n",
    "    print('Turtle' + str(i) + ' started')"
   ]
  },
  {
   "cell_type": "code",
   "execution_count": null,
   "metadata": {},
   "outputs": [],
   "source": []
  }
 ],
 "metadata": {
  "kernelspec": {
   "display_name": "Python 2",
   "language": "python",
   "name": "python2"
  },
  "language_info": {
   "codemirror_mode": {
    "name": "ipython",
    "version": 2
   },
   "file_extension": ".py",
   "mimetype": "text/x-python",
   "name": "python",
   "nbconvert_exporter": "python",
   "pygments_lexer": "ipython2",
   "version": "2.7.12"
  }
 },
 "nbformat": 4,
 "nbformat_minor": 2
}
