{
 "cells": [
  {
   "cell_type": "code",
   "execution_count": null,
   "metadata": {},
   "outputs": [],
   "source": [
    "'''\n",
    "rapyuta.io SDK talker-listener example.\n",
    "ROS topic communication between device and cloud instance with rapyuta.io\n",
    "In this example you can use the package created by publisher-subscirber tutorial.\n",
    "https://docs.rapyuta.io/dev-tutorials/ros-publisher-subscriber/\n",
    "\n",
    "more info: https://docs.rapyuta.io/python-sdk/talker-listener/\n",
    "'''"
   ]
  },
  {
   "cell_type": "code",
   "execution_count": null,
   "metadata": {},
   "outputs": [],
   "source": [
    "# Constants\n",
    "# TODO use public package id\n",
    "AUTH_TOKEN = ''\n",
    "DEVICE_ID = ''\n",
    "PACKAGE_ID = ''\n",
    "PLAN_ID = ''\n",
    "LISTENER_COMPONENT_NAME = ''"
   ]
  },
  {
   "cell_type": "code",
   "execution_count": null,
   "metadata": {},
   "outputs": [],
   "source": [
    "# Authentication code snippet\n",
    "from rapyuta_io import Client\n",
    "client = Client(AUTH_TOKEN, group='io-tutorial')"
   ]
  },
  {
   "cell_type": "code",
   "execution_count": null,
   "metadata": {},
   "outputs": [],
   "source": [
    "# Device Talker code snippet\n",
    "package = client.get_package(PACKAGE_ID)\n",
    "device = client.get_device(DEVICE_ID)\n",
    "configuration = package.get_provision_configuration(PLAN_ID)\n",
    "configuration.add_device(LISTENER_COMPONENT_NAME, device)\n",
    "deployment = package.provision(deployment_name = \"talker-listener\",\n",
    "\t\t\t\t\t\tprovision_configuration = configuration)\n",
    "print deployment.get_status()\n"
   ]
  },
  {
   "cell_type": "code",
   "execution_count": null,
   "metadata": {},
   "outputs": [],
   "source": []
  }
 ],
 "metadata": {
  "kernelspec": {
   "display_name": "Python 2",
   "language": "python",
   "name": "python2"
  },
  "language_info": {
   "codemirror_mode": {
    "name": "ipython",
    "version": 2
   },
   "file_extension": ".py",
   "mimetype": "text/x-python",
   "name": "python",
   "nbconvert_exporter": "python",
   "pygments_lexer": "ipython2",
   "version": "2.7.12"
  }
 },
 "nbformat": 4,
 "nbformat_minor": 2
}
