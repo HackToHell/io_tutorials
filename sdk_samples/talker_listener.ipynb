{
 "cells": [
  {
   "cell_type": "code",
   "execution_count": null,
   "metadata": {},
   "outputs": [],
   "source": [
    "'''\n",
    "rapyuta.io SDK talker-listener example.\n",
    "ROS topic communication between device and cloud instance with rapyuta.io\n",
    "more info: https://docs.rapyuta.io/python-sdk/talker-listener/\n",
    "'''"
   ]
  },
  {
   "cell_type": "code",
   "execution_count": null,
   "metadata": {},
   "outputs": [],
   "source": [
    "# Constants \n",
    "# You need to input device id of your device\n",
    "# TODO use public package ID\n",
    "AUTH_TOKEN = ''\n",
    "DEVICE_ID = ''\n",
    "DEVICE_TALKER_PACKAGE_ID = ''\n",
    "DEVICE_TALKER_PLAN_ID = ''\n",
    "TALKER_COMPONENT_NAME = ''\n",
    "CLOUD_LISTENER_PACKAGE_ID = ''\n",
    "CLOUD_LISTENER_PLAN_ID = ''"
   ]
  },
  {
   "cell_type": "code",
   "execution_count": null,
   "metadata": {},
   "outputs": [],
   "source": [
    "from time import sleep\n",
    "\n",
    "# Authentication code snippet\n",
    "from rapyuta_io import Client\n",
    "client = Client(AUTH_TOKEN, group='io-tutorial')"
   ]
  },
  {
   "cell_type": "code",
   "execution_count": null,
   "metadata": {},
   "outputs": [],
   "source": [
    "# Device Talker code snippet\n",
    "talker_package = client.get_package(DEVICE_TALKER_PACKAGE_ID)\n",
    "device = client.get_device(DEVICE_ID)\n",
    "talker_configuration = talker_package.get_provision_configuration(DEVICE_TALKER_PLAN_ID)\n",
    "talker_configuration.add_device(TALKER_COMPONENT_NAME, device)\n",
    "device_talker_deployment = talker_package.provision(deployment_name = \"device_talker\",\n",
    "\t\t\t\t\t\tprovision_configuration = talker_configuration)\n",
    "print device_talker_deployment.get_status()\n",
    "\n",
    "while(device_talker_deployment.get_status()['status'] != 'Running'):\n",
    "    print('Waiting talker start running')\n",
    "    sleep(1)\n",
    "print('Talker deployment started')"
   ]
  },
  {
   "cell_type": "code",
   "execution_count": null,
   "metadata": {},
   "outputs": [],
   "source": [
    "# Cloud Listener code snippet\n",
    "listener_package = client.get_package(CLOUD_LISTENER_PACKAGE_ID)\n",
    "listener_configuration = listener_package.get_provision_configuration(CLOUD_LISTENER_PLAN_ID)\n",
    "listener_configuration.add_dependent_deployment(device_talker_deployment)\n",
    "cloud_listener_deployment = listener_package.provision(deployment_name = 'cloud_listener',\n",
    "\t\t\t\tprovision_configuration = listener_configuration)\n",
    "print cloud_listener_deployment.get_status()\n",
    "\n",
    "while(cloud_listener_deployment.get_status()['status'] != 'Running'):\n",
    "    print('Waiting listener start running')\n",
    "    sleep(1)\n",
    "print('Listener deployment started')"
   ]
  },
  {
   "cell_type": "code",
   "execution_count": null,
   "metadata": {},
   "outputs": [],
   "source": []
  }
 ],
 "metadata": {
  "kernelspec": {
   "display_name": "Python 2",
   "language": "python",
   "name": "python2"
  },
  "language_info": {
   "codemirror_mode": {
    "name": "ipython",
    "version": 2
   },
   "file_extension": ".py",
   "mimetype": "text/x-python",
   "name": "python",
   "nbconvert_exporter": "python",
   "pygments_lexer": "ipython2",
   "version": "2.7.12"
  }
 },
 "nbformat": 4,
 "nbformat_minor": 2
}
