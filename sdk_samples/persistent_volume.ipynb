{
 "cells": [
  {
   "cell_type": "code",
   "execution_count": null,
   "metadata": {},
   "outputs": [],
   "source": [
    "'''\n",
    "rapyuta.io SDK persistent volume example.\n",
    "Create persistent volume on cloud and mount different instance on the volume\n",
    "more info: https://docs.rapyuta.io/python-sdk/persistent-volume/\n",
    "'''"
   ]
  },
  {
   "cell_type": "code",
   "execution_count": 46,
   "metadata": {},
   "outputs": [],
   "source": [
    "# Constants\n",
    "# TODO use public package ID\n",
    "AUTH_TOKEN = ''\n",
    "PACKAGE_ID = ''\n",
    "PLAN_ID = ''\n",
    "COMPONENT_NAME = ''\n",
    "MOUNT_PATH = '/'\n",
    "DEPLOYMENT_NAME = 'volume_client_deployment'"
   ]
  },
  {
   "cell_type": "code",
   "execution_count": 47,
   "metadata": {},
   "outputs": [],
   "source": [
    "from time import sleep\n",
    "\n",
    "# Authentication code snippet\n",
    "from rapyuta_io import Client, DiskType\n",
    "client = Client(AUTH_TOKEN, group='io-tutorial')"
   ]
  },
  {
   "cell_type": "code",
   "execution_count": 48,
   "metadata": {},
   "outputs": [
    {
     "name": "stdout",
     "output_type": "stream",
     "text": [
      "Waiting volume start running\n",
      "Waiting volume start running\n",
      "Volume instance started\n"
     ]
    }
   ],
   "source": [
    "# Create Volume code snippet\n",
    "persistent_volume = client.get_persistent_volume()\n",
    "volume_instance = persistent_volume.create_volume_instance(VOLUME_NAME, 1,\n",
    "                                                           DiskType.DEFAULT)\n",
    "while(volume_instance.get_status()['status'] != 'Running'):\n",
    "    print('Waiting volume start running')\n",
    "    sleep(1)\n",
    "print('Volume instance started')"
   ]
  },
  {
   "cell_type": "code",
   "execution_count": 49,
   "metadata": {},
   "outputs": [],
   "source": [
    "# Mount Volume code snippet\n",
    "sample_pkg = client.get_package(PACKAGE_ID)\n",
    "pkg_provision_config = sample_pkg.get_provision_configuration(PLAN_ID)\n",
    "pkg_provision_config.mount_volume(component_name=COMPONENT_NAME,\n",
    "                                  volume_instance=volume_instance,\n",
    "                                  mount_path=MOUNT_PATH)\n",
    "# Deploy package with mounted volume code snippet\n",
    "deployment_with_volume_mounted = sample_pkg.provision(deployment_name=DEPLOYMENT_NAME,\n",
    "                                                      provision_configuration=pkg_provision_config)\n"
   ]
  },
  {
   "cell_type": "code",
   "execution_count": null,
   "metadata": {},
   "outputs": [],
   "source": []
  }
 ],
 "metadata": {
  "kernelspec": {
   "display_name": "Python 2",
   "language": "python",
   "name": "python2"
  },
  "language_info": {
   "codemirror_mode": {
    "name": "ipython",
    "version": 2
   },
   "file_extension": ".py",
   "mimetype": "text/x-python",
   "name": "python",
   "nbconvert_exporter": "python",
   "pygments_lexer": "ipython2",
   "version": "2.7.12"
  }
 },
 "nbformat": 4,
 "nbformat_minor": 2
}
